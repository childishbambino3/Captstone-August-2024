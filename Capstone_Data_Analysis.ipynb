{
 "cells": [
  {
   "cell_type": "markdown",
   "id": "90e83ba2",
   "metadata": {},
   "source": [
    "# Project: Stock Data Analysis"
   ]
  },
  {
   "cell_type": "markdown",
   "id": "0dbb436d",
   "metadata": {},
   "source": [
    "\n",
    "This notebook contains the code breakdown for the Stock Data Analysis project, where we analyze and visualize the performance of MAANG stocks against the S&P 500. It includes loading data, cleaning and merging datasets, creating visualizations, and generating insights and Showing the vast difference between the impact of MAANG vs the market/S&P500.\n"
   ]
  },
  {
   "cell_type": "markdown",
   "id": "d7d0563b",
   "metadata": {},
   "source": [
    "## 1. Loading Data"
   ]
  },
  {
   "cell_type": "code",
   "execution_count": 7,
   "id": "2cd6c499",
   "metadata": {},
   "outputs": [],
   "source": [
    "\n",
    "import pandas as pd\n",
    "\n",
    "def load_data():\n",
    "    \"\"\" Load MAANG and US Stock Market datasets with robust error handling \"\"\"\n",
    "    try:\n",
    "        df_maang = pd.read_csv(\"Combined MAANG.csv\", thousands=',', decimal='.')\n",
    "        df_market = pd.read_csv(\"US Stock Market Data.csv\", thousands=',', decimal='.')\n",
    "        \n",
    "        print(\"Datasets loaded successfully!\")\n",
    "        return df_maang, df_market\n",
    "    except FileNotFoundError as e:\n",
    "        print(f\"Error loading files: {e}\")\n",
    "        return None, None\n"
   ]
  },
  {
   "cell_type": "markdown",
   "id": "e2786f9a",
   "metadata": {},
   "source": [
    "## 2. Data Cleaning and Merging"
   ]
  },
  {
   "cell_type": "code",
   "execution_count": 8,
   "id": "8b3b6e2f",
   "metadata": {},
   "outputs": [],
   "source": [
    "\n",
    "def clean_and_merge_data(df_maang, df_market):\n",
    "    \"\"\" Clean datasets and merge them with robust date handling \"\"\"\n",
    "    required_maang_cols = [\"Date\", \"Close\"]\n",
    "    required_market_cols = [\"Date\", \"S&P_500_Price\"]\n",
    "    \n",
    "    for col in required_maang_cols:\n",
    "        if col not in df_maang.columns:\n",
    "            raise ValueError(f\"Missing required column {col} in MAANG dataset\")\n",
    "    \n",
    "    for col in required_market_cols:\n",
    "        if col not in df_market.columns:\n",
    "            raise ValueError(f\"Missing required column {col} in Market dataset\")\n",
    "    \n",
    "    df_maang = df_maang.ffill()\n",
    "    df_market = df_market.ffill()\n",
    "    \n",
    "    df_maang[\"Date\"] = pd.to_datetime(df_maang[\"Date\"], infer_datetime_format=True, errors='coerce')\n",
    "    df_market[\"Date\"] = pd.to_datetime(df_market[\"Date\"], infer_datetime_format=True, errors='coerce')\n",
    "    \n",
    "    df_maang = df_maang.dropna(subset=[\"Date\"])\n",
    "    df_market = df_market.dropna(subset=[\"Date\"])\n",
    "    \n",
    "    df_maang[\"Close\"] = pd.to_numeric(df_maang[\"Close\"], errors='coerce')\n",
    "    df_market[\"S&P_500_Price\"] = pd.to_numeric(df_market[\"S&P_500_Price\"], errors='coerce')\n",
    "    \n",
    "    df_maang = df_maang.dropna(subset=[\"Close\"])\n",
    "    df_market = df_market.dropna(subset=[\"S&P_500_Price\"])\n",
    "    \n",
    "    df_maang = df_maang[(df_maang[\"Date\"] >= \"2020-01-01\") & (df_maang[\"Date\"] <= \"2022-12-31\")]\n",
    "    df_market = df_market[(df_market[\"Date\"] >= \"2020-01-01\") & (df_market[\"Date\"] <= \"2022-12-31\")]\n",
    "    \n",
    "    df_merged = pd.merge(df_maang, df_market, on=\"Date\", how=\"inner\")\n",
    "    df_merged[\"MAANG_Market_Diff_Pct\"] = ((df_merged[\"Close\"] - df_merged[\"S&P_500_Price\"]) / df_merged[\"S&P_500_Price\"]) * 100\n",
    "    \n",
    "    return df_merged\n"
   ]
  },
  {
   "cell_type": "markdown",
   "id": "d1ccfb13",
   "metadata": {},
   "source": [
    "## 3. Creating Visualizations (Matplotlib)"
   ]
  },
  {
   "cell_type": "code",
   "execution_count": 9,
   "id": "bbe60d8c",
   "metadata": {},
   "outputs": [],
   "source": [
    "\n",
    "import matplotlib.pyplot as plt\n",
    "\n",
    "def create_matplotlib_visualizations(df_merged):\n",
    "    \"\"\" Create matplotlib visualizations \"\"\"\n",
    "    try:\n",
    "        plt.figure(figsize=(12, 6))\n",
    "        plt.plot(df_merged[\"Date\"], df_merged[\"Close\"], label=\"MAANG Stock\")\n",
    "        plt.plot(df_merged[\"Date\"], df_merged[\"S&P_500_Price\"], label=\"S&P 500\")\n",
    "        plt.title(\"MAANG Stock Price vs S&P 500 (2020-2022)\")\n",
    "        plt.xlabel(\"Date\")\n",
    "        plt.ylabel(\"Price\")\n",
    "        plt.legend()\n",
    "        plt.xticks(rotation=45)\n",
    "        plt.tight_layout()\n",
    "        plt.savefig(\"stock_price_comparison.png\")\n",
    "        plt.close()\n",
    "\n",
    "        plt.figure(figsize=(12, 6))\n",
    "        plt.plot(df_merged[\"Date\"], df_merged[\"MAANG_Market_Diff_Pct\"])\n",
    "        plt.title(\"MAANG vs S&P 500 Percentage Difference (2020-2022)\")\n",
    "        plt.xlabel(\"Date\")\n",
    "        plt.ylabel(\"Percentage Difference\")\n",
    "        plt.axhline(y=0, color='r', linestyle='--')\n",
    "        plt.tight_layout()\n",
    "        plt.savefig(\"percentage_difference.png\")\n",
    "        plt.close()\n",
    "\n",
    "    except Exception as e:\n",
    "        print(f\"Error creating matplotlib visualizations: {e}\")\n"
   ]
  },
  {
   "cell_type": "markdown",
   "id": "c6928af4",
   "metadata": {},
   "source": [
    "## 4. Creating Interactive Visualizations (Plotly)"
   ]
  },
  {
   "cell_type": "code",
   "execution_count": 10,
   "id": "c3e42b4b",
   "metadata": {},
   "outputs": [],
   "source": [
    "\n",
    "import plotly.express as px\n",
    "\n",
    "def create_plotly_dashboard(df_merged):\n",
    "    \"\"\" Create interactive Plotly dashboard \"\"\"\n",
    "    try:\n",
    "        fig = px.line(df_merged, x=\"Date\", y=[\"Close\", \"S&P_500_Price\"], \n",
    "                      title=\"MAANG Stock vs S&P 500 Interactive Chart\")\n",
    "        fig.write_html(\"interactive_stock_chart.html\")\n",
    "\n",
    "        fig_diff = px.area(df_merged, x=\"Date\", y=\"MAANG_Market_Diff_Pct\", \n",
    "                           title=\"MAANG vs S&P 500 Percentage Difference\")\n",
    "        fig_diff.write_html(\"percentage_difference_chart.html\")\n",
    "\n",
    "    except Exception as e:\n",
    "        print(f\"Error creating Plotly dashboard: {e}\")\n"
   ]
  },
  {
   "cell_type": "markdown",
   "id": "81561025",
   "metadata": {},
   "source": [
    "## 5. Creating Pivot Table"
   ]
  },
  {
   "cell_type": "code",
   "execution_count": 11,
   "id": "c938d186",
   "metadata": {},
   "outputs": [],
   "source": [
    "\n",
    "def create_pivot_table(df_merged):\n",
    "    \"\"\" Create and save pivot table \"\"\"\n",
    "    try:\n",
    "        pivot_monthly = df_merged.groupby(pd.Grouper(key=\"Date\", freq=\"M\")).agg({\n",
    "            \"Close\": \"mean\",\n",
    "            \"S&P_500_Price\": \"mean\",\n",
    "            \"MAANG_Market_Diff_Pct\": \"mean\"\n",
    "        }).reset_index()\n",
    "        \n",
    "        pivot_monthly.to_csv(\"monthly_stock_comparison.csv\", index=False)\n",
    "        print(\"Pivot table created successfully!\")\n",
    "\n",
    "    except Exception as e:\n",
    "        print(f\"Error creating pivot table: {e}\")\n"
   ]
  },
  {
   "cell_type": "markdown",
   "id": "f0caba3a",
   "metadata": {},
   "source": [
    "## 6. Main Function"
   ]
  },
  {
   "cell_type": "code",
   "execution_count": 12,
   "id": "88d1282b",
   "metadata": {},
   "outputs": [
    {
     "name": "stdout",
     "output_type": "stream",
     "text": [
      "Datasets loaded successfully!\n"
     ]
    },
    {
     "name": "stderr",
     "output_type": "stream",
     "text": [
      "C:\\Users\\Felice\\AppData\\Local\\Temp\\ipykernel_19176\\1769287097.py:17: UserWarning:\n",
      "\n",
      "The argument 'infer_datetime_format' is deprecated and will be removed in a future version. A strict version of it is now the default, see https://pandas.pydata.org/pdeps/0004-consistent-to-datetime-parsing.html. You can safely remove this argument.\n",
      "\n",
      "C:\\Users\\Felice\\AppData\\Local\\Temp\\ipykernel_19176\\1769287097.py:18: UserWarning:\n",
      "\n",
      "The argument 'infer_datetime_format' is deprecated and will be removed in a future version. A strict version of it is now the default, see https://pandas.pydata.org/pdeps/0004-consistent-to-datetime-parsing.html. You can safely remove this argument.\n",
      "\n"
     ]
    },
    {
     "name": "stdout",
     "output_type": "stream",
     "text": [
      "Pivot table created successfully!\n",
      "Data processing completed successfully!\n"
     ]
    },
    {
     "name": "stderr",
     "output_type": "stream",
     "text": [
      "C:\\Users\\Felice\\AppData\\Local\\Temp\\ipykernel_19176\\907023332.py:4: FutureWarning:\n",
      "\n",
      "'M' is deprecated and will be removed in a future version, please use 'ME' instead.\n",
      "\n"
     ]
    }
   ],
   "source": [
    "\n",
    "def main():\n",
    "    \"\"\" Main function to orchestrate data processing and visualization \"\"\"\n",
    "    df_maang, df_market = load_data()\n",
    "    \n",
    "    if df_maang is not None and df_market is not None:\n",
    "        try:\n",
    "            df_merged = clean_and_merge_data(df_maang, df_market)\n",
    "            df_merged.to_csv(\"Processed_MAANG_vs_Market.csv\", index=False)\n",
    "            \n",
    "            create_matplotlib_visualizations(df_merged)\n",
    "            create_plotly_dashboard(df_merged)\n",
    "            create_pivot_table(df_merged)\n",
    "            \n",
    "            print(\"Data processing completed successfully!\")\n",
    "        \n",
    "        except Exception as e:\n",
    "            print(f\"An error occurred during data processing: {e}\")\n",
    "            print(\"Please check your data files and ensure they are correctly formatted.\")\n",
    "\n",
    "if __name__ == \"__main__\":\n",
    "    main()\n"
   ]
  }
 ],
 "metadata": {
  "kernelspec": {
   "display_name": "capstone_env",
   "language": "python",
   "name": "python3"
  },
  "language_info": {
   "codemirror_mode": {
    "name": "ipython",
    "version": 3
   },
   "file_extension": ".py",
   "mimetype": "text/x-python",
   "name": "python",
   "nbconvert_exporter": "python",
   "pygments_lexer": "ipython3",
   "version": "3.13.2"
  }
 },
 "nbformat": 4,
 "nbformat_minor": 5
}
